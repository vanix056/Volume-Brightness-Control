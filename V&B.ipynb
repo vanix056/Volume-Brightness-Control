{
 "cells": [
  {
   "cell_type": "code",
   "execution_count": 2,
   "metadata": {},
   "outputs": [
    {
     "ename": "ImportError",
     "evalue": "cannot import name 'HRESULT' from 'ctypes' (/opt/anaconda3/lib/python3.11/ctypes/__init__.py)",
     "output_type": "error",
     "traceback": [
      "\u001b[0;31m---------------------------------------------------------------------------\u001b[0m",
      "\u001b[0;31mImportError\u001b[0m                               Traceback (most recent call last)",
      "Cell \u001b[0;32mIn[2], line 6\u001b[0m\n\u001b[1;32m      4\u001b[0m \u001b[38;5;28;01mfrom\u001b[39;00m \u001b[38;5;21;01mmath\u001b[39;00m \u001b[38;5;28;01mimport\u001b[39;00m hypot\n\u001b[1;32m      5\u001b[0m \u001b[38;5;28;01mimport\u001b[39;00m \u001b[38;5;21;01mscreen_brightness_control\u001b[39;00m \u001b[38;5;28;01mas\u001b[39;00m \u001b[38;5;21;01msbc\u001b[39;00m \n\u001b[0;32m----> 6\u001b[0m \u001b[38;5;28;01mfrom\u001b[39;00m \u001b[38;5;21;01mpycaw\u001b[39;00m\u001b[38;5;21;01m.\u001b[39;00m\u001b[38;5;21;01mpycaw\u001b[39;00m \u001b[38;5;28;01mimport\u001b[39;00m AudioUtilities, IAudioEndpointVolume\n\u001b[1;32m      7\u001b[0m \u001b[38;5;28;01mfrom\u001b[39;00m \u001b[38;5;21;01mcomtypes\u001b[39;00m \u001b[38;5;28;01mimport\u001b[39;00m HRESULT, CLSCTX_ALL\n\u001b[1;32m      8\u001b[0m \u001b[38;5;28;01mfrom\u001b[39;00m \u001b[38;5;21;01mctypes\u001b[39;00m \u001b[38;5;28;01mimport\u001b[39;00m cast ,POINTER\n",
      "File \u001b[0;32m/opt/anaconda3/lib/python3.11/site-packages/pycaw/pycaw.py:11\u001b[0m\n\u001b[1;32m      1\u001b[0m \u001b[38;5;124;03m\"\"\"\u001b[39;00m\n\u001b[1;32m      2\u001b[0m \u001b[38;5;124;03mPython wrapper around the Core Audio Windows API.\u001b[39;00m\n\u001b[1;32m      3\u001b[0m \u001b[38;5;124;03m\"\"\"\u001b[39;00m\n\u001b[1;32m      5\u001b[0m \u001b[38;5;66;03m# import here all newly split up modules,\u001b[39;00m\n\u001b[1;32m      6\u001b[0m \u001b[38;5;66;03m# to keep backwards compatibility\u001b[39;00m\n\u001b[1;32m      7\u001b[0m \n\u001b[1;32m      8\u001b[0m \u001b[38;5;66;03m# flake8: noqa\u001b[39;00m\n\u001b[1;32m      9\u001b[0m \u001b[38;5;66;03m# yes, the imports are unused\u001b[39;00m\n\u001b[0;32m---> 11\u001b[0m \u001b[38;5;28;01mfrom\u001b[39;00m \u001b[38;5;21;01mpycaw\u001b[39;00m\u001b[38;5;21;01m.\u001b[39;00m\u001b[38;5;21;01mapi\u001b[39;00m\u001b[38;5;21;01m.\u001b[39;00m\u001b[38;5;21;01maudioclient\u001b[39;00m \u001b[38;5;28;01mimport\u001b[39;00m IAudioClient, ISimpleAudioVolume\n\u001b[1;32m     12\u001b[0m \u001b[38;5;28;01mfrom\u001b[39;00m \u001b[38;5;21;01mpycaw\u001b[39;00m\u001b[38;5;21;01m.\u001b[39;00m\u001b[38;5;21;01mapi\u001b[39;00m\u001b[38;5;21;01m.\u001b[39;00m\u001b[38;5;21;01maudioclient\u001b[39;00m\u001b[38;5;21;01m.\u001b[39;00m\u001b[38;5;21;01mdepend\u001b[39;00m \u001b[38;5;28;01mimport\u001b[39;00m WAVEFORMATEX\n\u001b[1;32m     13\u001b[0m \u001b[38;5;28;01mfrom\u001b[39;00m \u001b[38;5;21;01mpycaw\u001b[39;00m\u001b[38;5;21;01m.\u001b[39;00m\u001b[38;5;21;01mapi\u001b[39;00m\u001b[38;5;21;01m.\u001b[39;00m\u001b[38;5;21;01maudiopolicy\u001b[39;00m \u001b[38;5;28;01mimport\u001b[39;00m (\n\u001b[1;32m     14\u001b[0m     IAudioSessionControl,\n\u001b[1;32m     15\u001b[0m     IAudioSessionControl2,\n\u001b[0;32m   (...)\u001b[0m\n\u001b[1;32m     21\u001b[0m     IAudioVolumeDuckNotification,\n\u001b[1;32m     22\u001b[0m )\n",
      "File \u001b[0;32m/opt/anaconda3/lib/python3.11/site-packages/pycaw/api/audioclient/__init__.py:1\u001b[0m\n\u001b[0;32m----> 1\u001b[0m \u001b[38;5;28;01mfrom\u001b[39;00m \u001b[38;5;21;01mctypes\u001b[39;00m \u001b[38;5;28;01mimport\u001b[39;00m HRESULT, POINTER, c_float\n\u001b[1;32m      2\u001b[0m \u001b[38;5;28;01mfrom\u001b[39;00m \u001b[38;5;21;01mctypes\u001b[39;00m \u001b[38;5;28;01mimport\u001b[39;00m c_longlong \u001b[38;5;28;01mas\u001b[39;00m REFERENCE_TIME\n\u001b[1;32m      3\u001b[0m \u001b[38;5;28;01mfrom\u001b[39;00m \u001b[38;5;21;01mctypes\u001b[39;00m \u001b[38;5;28;01mimport\u001b[39;00m c_uint32 \u001b[38;5;28;01mas\u001b[39;00m UINT32\n",
      "\u001b[0;31mImportError\u001b[0m: cannot import name 'HRESULT' from 'ctypes' (/opt/anaconda3/lib/python3.11/ctypes/__init__.py)"
     ]
    }
   ],
   "source": [
    "import cv2\n",
    "import numpy as np\n",
    "import mediapipe as mp\n",
    "from math import hypot\n",
    "import screen_brightness_control as sbc \n",
    "from pycaw.pycaw import AudioUtilities, IAudioEndpointVolume\n",
    "from comtypes import HRESULT, CLSCTX_ALL\n",
    "from ctypes import cast ,POINTER"
   ]
  },
  {
   "cell_type": "code",
   "execution_count": 2,
   "metadata": {},
   "outputs": [
    {
     "name": "stderr",
     "output_type": "stream",
     "text": [
      "INFO: Created TensorFlow Lite XNNPACK delegate for CPU.\n",
      "2024-06-24 03:04:03.014 python[10895:245238] NSSoftLinking - The function 'SLSTransactionSetWindowTags' can't be found in the (null) framework.\n",
      "2024-06-24 03:04:03.016 python[10895:245238] NSSoftLinking - The function 'SLSTransactionReorderWindows' can't be found in the (null) framework.\n",
      "2024-06-24 03:04:03.017 python[10895:245238] NSSoftLinking - The function 'SLSTransactionOrderWindowGroupFrontConditionally' can't be found in the (null) framework.\n",
      "2024-06-24 03:04:03.154 python[10895:245238] NSSoftLinking - The function 'SLSTransactionEnsureSpaceSwitchToActiveProcess' can't be found in the (null) framework.\n"
     ]
    }
   ],
   "source": [
    "import cv2\n",
    "import numpy as np\n",
    "import mediapipe as mp\n",
    "from math import hypot\n",
    "import os\n",
    "import subprocess\n",
    "from AppKit import NSScreen\n",
    "\n",
    "def main():\n",
    "    mpHands = mp.solutions.hands\n",
    "    hands = mpHands.Hands(\n",
    "        static_image_mode=False,\n",
    "        max_num_hands=2,\n",
    "        min_detection_confidence=0.75,\n",
    "        min_tracking_confidence=0.75,\n",
    "    )\n",
    "    \n",
    "    mpDraw = mp.solutions.drawing_utils\n",
    "    \n",
    "    cap = cv2.VideoCapture(0)\n",
    "    \n",
    "    cap.set(cv2.CAP_PROP_FRAME_WIDTH, 640)\n",
    "    cap.set(cv2.CAP_PROP_FRAME_HEIGHT, 480)\n",
    "    cap.set(cv2.CAP_PROP_FPS, 30)\n",
    "    \n",
    "    try:\n",
    "        while cap.isOpened():\n",
    "            ret, frame = cap.read()\n",
    "            if not ret:\n",
    "                break\n",
    "            \n",
    "            frame = cv2.flip(frame, 1)\n",
    "            frameRGB = cv2.cvtColor(frame, cv2.COLOR_BGR2RGB)\n",
    "            processed = hands.process(frameRGB)\n",
    "            left_landmark_list, right_landmark_list = get_left_right_landmarks(frame, processed, mpDraw, mpHands)\n",
    "            \n",
    "            if left_landmark_list:\n",
    "                left_distance = get_distance(frame, left_landmark_list)\n",
    "                if left_distance is not None:\n",
    "                    b_level = np.interp(left_distance, [50, 220], [0, 100])\n",
    "                    set_screen_brightness(b_level)\n",
    "            \n",
    "            if right_landmark_list:\n",
    "                right_distance = get_distance(frame, right_landmark_list)\n",
    "                if right_distance is not None:\n",
    "                    vol_level = np.interp(right_distance, [50, 220], [0, 100])\n",
    "                    set_system_volume(int(vol_level))\n",
    "            \n",
    "            cv2.imshow('Mouse', frame)\n",
    "        \n",
    "            if cv2.waitKey(1) & 0xFF == ord('q'):\n",
    "                break\n",
    "        \n",
    "    finally:\n",
    "        cap.release()\n",
    "        cv2.destroyAllWindows()\n",
    "\n",
    "def get_left_right_landmarks(frame, processed, mpDraw, mpHands):\n",
    "    left_landmark_list = []\n",
    "    right_landmark_list = []\n",
    "    \n",
    "    if processed.multi_hand_landmarks:\n",
    "        for hand_landmarks, hand_handedness in zip(processed.multi_hand_landmarks, processed.multi_handedness):\n",
    "            landmark_list = []\n",
    "            for id, lm in enumerate(hand_landmarks.landmark):\n",
    "                h, w, c = frame.shape\n",
    "                cx, cy = int(lm.x * w), int(lm.y * h)\n",
    "                if id == 4 or id == 8:  # Thumb tip or Index finger tip\n",
    "                    landmark_list.append([cx, cy])\n",
    "            if hand_handedness.classification[0].label == 'Left':\n",
    "                left_landmark_list = landmark_list\n",
    "            else:\n",
    "                right_landmark_list = landmark_list\n",
    "            mpDraw.draw_landmarks(frame, hand_landmarks, mpHands.HAND_CONNECTIONS)\n",
    "    \n",
    "    return left_landmark_list, right_landmark_list\n",
    "\n",
    "def get_distance(frame, landmark_list):\n",
    "    if len(landmark_list) < 2:\n",
    "        return None\n",
    "    \n",
    "    (x1, y1), (x2, y2) = (landmark_list[0][0], landmark_list[0][1]), (landmark_list[1][0], landmark_list[1][1])\n",
    "    \n",
    "    cv2.circle(frame, (x1, y1), 7, (0, 0, 255), cv2.FILLED)\n",
    "    cv2.circle(frame, (x2, y2), 7, (0, 0, 255), cv2.FILLED)\n",
    "    cv2.line(frame, (x1, y1), (x2, y2), (0, 0, 255), 3)\n",
    "    \n",
    "    euclidean_distance = hypot(x2 - x1, y2 - y1)\n",
    "    return euclidean_distance\n",
    "\n",
    "def set_screen_brightness(brightness_level):\n",
    "    # Use the 'brightness' command-line tool to set the screen brightness\n",
    "    brightness_value = brightness_level / 100.0  # Convert to range [0.0, 1.0]\n",
    "    os.system(f\"brightness {brightness_value}\")\n",
    "\n",
    "def set_system_volume(volume_level):\n",
    "    # Use AppleScript to set the system volume\n",
    "    osascript_command = f\"osascript -e 'set volume output volume {volume_level}'\"\n",
    "    os.system(osascript_command)\n",
    "\n",
    "if __name__ == '__main__':\n",
    "    main()\n"
   ]
  },
  {
   "cell_type": "code",
   "execution_count": null,
   "metadata": {},
   "outputs": [],
   "source": []
  },
  {
   "cell_type": "code",
   "execution_count": null,
   "metadata": {},
   "outputs": [],
   "source": []
  },
  {
   "cell_type": "code",
   "execution_count": null,
   "metadata": {},
   "outputs": [],
   "source": []
  }
 ],
 "metadata": {
  "kernelspec": {
   "display_name": "Python 3 (ipykernel)",
   "language": "python",
   "name": "python3"
  },
  "language_info": {
   "codemirror_mode": {
    "name": "ipython",
    "version": 3
   },
   "file_extension": ".py",
   "mimetype": "text/x-python",
   "name": "python",
   "nbconvert_exporter": "python",
   "pygments_lexer": "ipython3",
   "version": "3.11.7"
  }
 },
 "nbformat": 4,
 "nbformat_minor": 4
}
